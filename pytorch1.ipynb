{
 "cells": [
  {
   "cell_type": "code",
   "execution_count": 1,
   "metadata": {},
   "outputs": [],
   "source": [
    "import torch\n",
    "from torch import nn"
   ]
  },
  {
   "cell_type": "code",
   "execution_count": 3,
   "metadata": {},
   "outputs": [],
   "source": [
    "m = nn.Sigmoid()\n",
    "y = torch.rand(3)\n",
    "t = torch.empty(3,dtype=torch.float32).random_(2)\n",
    "criterion = nn.BCELoss()\n",
    "loss = criterion(m(y),t)"
   ]
  },
  {
   "cell_type": "code",
   "execution_count": 5,
   "metadata": {},
   "outputs": [
    {
     "name": "stdout",
     "output_type": "stream",
     "text": [
      "y:tensor([0.9726, 0.4448, 0.8933])\n",
      "m:tensor([0.7256, 0.6094, 0.7096])\n",
      "t:tensor([0., 1., 0.])\n",
      "loss: 1.0083\n"
     ]
    }
   ],
   "source": [
    "print(\"y:{}\".format(y))\n",
    "print(\"m:{}\".format(m(y)))\n",
    "print(\"t:{}\".format(t))\n",
    "print(\"loss: {:.4f}\".format(loss))"
   ]
  },
  {
   "cell_type": "code",
   "execution_count": 6,
   "metadata": {},
   "outputs": [
    {
     "name": "stdout",
     "output_type": "stream",
     "text": [
      "y:tensor([0.8717, 0.8072, 0.4635])\n",
      "t:tensor([1., 0., 1.])\n",
      "loss: 0.6711\n"
     ]
    }
   ],
   "source": [
    "y = torch.rand(3)\n",
    "t = torch.empty(3,dtype=torch.float32).random_(2)\n",
    "criterion = nn.BCEWithLogitsLoss()\n",
    "loss = criterion(y,t)\n",
    "print(\"y:{}\".format(y))\n",
    "print(\"t:{}\".format(t))\n",
    "print(\"loss: {:.4f}\".format(loss))"
   ]
  },
  {
   "cell_type": "code",
   "execution_count": null,
   "metadata": {},
   "outputs": [],
   "source": []
  },
  {
   "cell_type": "code",
   "execution_count": null,
   "metadata": {},
   "outputs": [],
   "source": []
  },
  {
   "cell_type": "code",
   "execution_count": 13,
   "metadata": {},
   "outputs": [
    {
     "name": "stdout",
     "output_type": "stream",
     "text": [
      "y:tensor([0.4423, 0.1144, 0.0996])\n",
      "t:tensor([0., 1., 1.])\n",
      "loss: 0.7402\n"
     ]
    }
   ],
   "source": [
    "y = torch.rand(3)\n",
    "t = torch.empty(3,dtype=torch.float32).random_(2)\n",
    "criterion = nn.BCEWithLogitsLoss()\n",
    "loss = criterion(y,t)\n",
    "print(\"y:{}\".format(y))\n",
    "print(\"t:{}\".format(t))\n",
    "print(\"loss: {:.4f}\".format(loss))"
   ]
  },
  {
   "cell_type": "code",
   "execution_count": null,
   "metadata": {},
   "outputs": [],
   "source": []
  },
  {
   "cell_type": "code",
   "execution_count": 17,
   "metadata": {},
   "outputs": [
    {
     "name": "stdout",
     "output_type": "stream",
     "text": [
      "y:tensor([[0.7515, 0.7666, 0.9787, 0.3974, 0.9196],\n",
      "        [0.1826, 0.9469, 0.1221, 0.2212, 0.1075],\n",
      "        [0.9894, 0.5688, 0.6003, 0.8152, 0.4443]])\n",
      "t:tensor([0, 0, 4])\n",
      "loss: 1.7696\n"
     ]
    }
   ],
   "source": [
    "y = torch.rand(3,5)\n",
    "t = torch.empty(3,dtype=torch.int64).random_(5)\n",
    "criterion = nn.CrossEntropyLoss()\n",
    "loss = criterion(y,t)\n",
    "print(\"y:{}\".format(y))\n",
    "print(\"t:{}\".format(t))\n",
    "print(\"loss: {:.4f}\".format(loss))"
   ]
  },
  {
   "cell_type": "code",
   "execution_count": null,
   "metadata": {},
   "outputs": [],
   "source": []
  },
  {
   "cell_type": "code",
   "execution_count": 21,
   "metadata": {},
   "outputs": [
    {
     "name": "stdout",
     "output_type": "stream",
     "text": [
      "tensor(0.2285)\n"
     ]
    }
   ],
   "source": [
    "y = torch.rand(1,10)\n",
    "t = torch.rand(1,10)\n",
    "criterion = nn.MSELoss()\n",
    "loss = criterion(y,t)\n",
    "print(loss)"
   ]
  },
  {
   "cell_type": "code",
   "execution_count": 27,
   "metadata": {},
   "outputs": [
    {
     "name": "stdout",
     "output_type": "stream",
     "text": [
      "tensor(0.2271)\n"
     ]
    }
   ],
   "source": [
    "#ここから\n",
    "import torch\n",
    "from torch import nn\n",
    "y = torch.rand(1,10)#ネットワークの予測した予測値\n",
    "t = torch.rand(1,10)#正解値\n",
    "criterion = nn.L1Loss()#損失関数の設定\n",
    "loss = criterion(y,t)#予測値と正解値との誤差を計算\n",
    "print(loss)"
   ]
  },
  {
   "cell_type": "code",
   "execution_count": null,
   "metadata": {},
   "outputs": [],
   "source": []
  },
  {
   "cell_type": "code",
   "execution_count": null,
   "metadata": {},
   "outputs": [],
   "source": [
    "#最適化関数"
   ]
  },
  {
   "cell_type": "code",
   "execution_count": 54,
   "metadata": {},
   "outputs": [],
   "source": [
    "#パッケージをインポート\n",
    "import torch\n",
    "from torch import nn\n",
    "import torch.nn.functional as F\n",
    "from torch import optim\n",
    "import matplotlib.pyplot as plt"
   ]
  },
  {
   "cell_type": "code",
   "execution_count": 57,
   "metadata": {},
   "outputs": [],
   "source": [
    "#ニューラルネットワークの定義\n",
    "class Net(nn.Module):\n",
    "    def __init__(self, D_in, H, D_out):\n",
    "        super(Net, self).__init__()\n",
    "        self.linear1 = nn.Linear(D_in, H)\n",
    "        self.linear2 = nn.Linear(H,D_out)\n",
    "    def forward(self,x):#順伝搬\n",
    "        x = F.relu(self.linear1(x))\n",
    "        x = self.linear2(x)\n",
    "        return x\n",
    "#ハイパーパラメータの定義\n",
    "N = 64 #パッチサイズ:64\n",
    "D_in = 1000 #入力次元: 1000\n",
    "H =100 #隠れ層次元:100\n",
    "D_out = 10 #出力次元: 10\n",
    "epoch = 100 #学習回数: 100回\n",
    "#データの生成\n",
    "x = torch.rand(N,D_in) #入力データ\n",
    "y = torch.rand(N,D_out) #正解値\n",
    "#ネットワークのロード\n",
    "net = Net(D_in, H, D_out)\n",
    "#損失関数\n",
    "criterion = nn.MSELoss()\n",
    "#最適化関数\n",
    "optimizer = optim.Adam(net.parameters(), lr=1e-4, betas=(0.9,0.99),eps=1e-7)\n",
    "\n",
    "loss_list = [] #学習毎の誤差を格納するリスト"
   ]
  },
  {
   "cell_type": "code",
   "execution_count": 59,
   "metadata": {},
   "outputs": [
    {
     "name": "stdout",
     "output_type": "stream",
     "text": [
      "Epoch: 1, Loss: 0.298\n",
      "Epoch: 2, Loss: 0.269\n",
      "Epoch: 3, Loss: 0.243\n",
      "Epoch: 4, Loss: 0.221\n",
      "Epoch: 5, Loss: 0.201\n",
      "Epoch: 6, Loss: 0.184\n",
      "Epoch: 7, Loss: 0.169\n",
      "Epoch: 8, Loss: 0.156\n",
      "Epoch: 9, Loss: 0.145\n",
      "Epoch: 10, Loss: 0.135\n",
      "Epoch: 11, Loss: 0.127\n",
      "Epoch: 12, Loss: 0.119\n",
      "Epoch: 13, Loss: 0.113\n",
      "Epoch: 14, Loss: 0.108\n",
      "Epoch: 15, Loss: 0.103\n",
      "Epoch: 16, Loss: 0.100\n",
      "Epoch: 17, Loss: 0.097\n",
      "Epoch: 18, Loss: 0.095\n",
      "Epoch: 19, Loss: 0.093\n",
      "Epoch: 20, Loss: 0.092\n",
      "Epoch: 21, Loss: 0.090\n",
      "Epoch: 22, Loss: 0.089\n",
      "Epoch: 23, Loss: 0.088\n",
      "Epoch: 24, Loss: 0.087\n",
      "Epoch: 25, Loss: 0.086\n",
      "Epoch: 26, Loss: 0.085\n",
      "Epoch: 27, Loss: 0.085\n",
      "Epoch: 28, Loss: 0.084\n",
      "Epoch: 29, Loss: 0.083\n",
      "Epoch: 30, Loss: 0.082\n",
      "Epoch: 31, Loss: 0.082\n",
      "Epoch: 32, Loss: 0.081\n",
      "Epoch: 33, Loss: 0.080\n",
      "Epoch: 34, Loss: 0.080\n",
      "Epoch: 35, Loss: 0.079\n",
      "Epoch: 36, Loss: 0.079\n",
      "Epoch: 37, Loss: 0.078\n",
      "Epoch: 38, Loss: 0.077\n",
      "Epoch: 39, Loss: 0.077\n",
      "Epoch: 40, Loss: 0.076\n",
      "Epoch: 41, Loss: 0.075\n",
      "Epoch: 42, Loss: 0.074\n",
      "Epoch: 43, Loss: 0.074\n",
      "Epoch: 44, Loss: 0.073\n",
      "Epoch: 45, Loss: 0.072\n",
      "Epoch: 46, Loss: 0.072\n",
      "Epoch: 47, Loss: 0.071\n",
      "Epoch: 48, Loss: 0.070\n",
      "Epoch: 49, Loss: 0.070\n",
      "Epoch: 50, Loss: 0.069\n",
      "Epoch: 51, Loss: 0.069\n",
      "Epoch: 52, Loss: 0.068\n",
      "Epoch: 53, Loss: 0.068\n",
      "Epoch: 54, Loss: 0.067\n",
      "Epoch: 55, Loss: 0.067\n",
      "Epoch: 56, Loss: 0.066\n",
      "Epoch: 57, Loss: 0.066\n",
      "Epoch: 58, Loss: 0.065\n",
      "Epoch: 59, Loss: 0.064\n",
      "Epoch: 60, Loss: 0.064\n",
      "Epoch: 61, Loss: 0.063\n",
      "Epoch: 62, Loss: 0.063\n",
      "Epoch: 63, Loss: 0.062\n",
      "Epoch: 64, Loss: 0.061\n",
      "Epoch: 65, Loss: 0.061\n",
      "Epoch: 66, Loss: 0.060\n",
      "Epoch: 67, Loss: 0.060\n",
      "Epoch: 68, Loss: 0.059\n",
      "Epoch: 69, Loss: 0.059\n",
      "Epoch: 70, Loss: 0.058\n",
      "Epoch: 71, Loss: 0.058\n",
      "Epoch: 72, Loss: 0.057\n",
      "Epoch: 73, Loss: 0.057\n",
      "Epoch: 74, Loss: 0.056\n",
      "Epoch: 75, Loss: 0.056\n",
      "Epoch: 76, Loss: 0.055\n",
      "Epoch: 77, Loss: 0.055\n",
      "Epoch: 78, Loss: 0.054\n",
      "Epoch: 79, Loss: 0.054\n",
      "Epoch: 80, Loss: 0.053\n",
      "Epoch: 81, Loss: 0.053\n",
      "Epoch: 82, Loss: 0.052\n",
      "Epoch: 83, Loss: 0.052\n",
      "Epoch: 84, Loss: 0.051\n",
      "Epoch: 85, Loss: 0.051\n",
      "Epoch: 86, Loss: 0.050\n",
      "Epoch: 87, Loss: 0.050\n",
      "Epoch: 88, Loss: 0.049\n",
      "Epoch: 89, Loss: 0.049\n",
      "Epoch: 90, Loss: 0.048\n",
      "Epoch: 91, Loss: 0.048\n",
      "Epoch: 92, Loss: 0.047\n",
      "Epoch: 93, Loss: 0.047\n",
      "Epoch: 94, Loss: 0.046\n",
      "Epoch: 95, Loss: 0.046\n",
      "Epoch: 96, Loss: 0.045\n",
      "Epoch: 97, Loss: 0.045\n",
      "Epoch: 98, Loss: 0.044\n",
      "Epoch: 99, Loss: 0.044\n",
      "Epoch: 100, Loss: 0.044\n"
     ]
    }
   ],
   "source": [
    "#学習させている\n",
    "for i in range(epoch):\n",
    "    y_pred = net(x) #データを入力して予測値を計算\n",
    "    loss = criterion(y_pred, y)#損失(誤差)を計算\n",
    "    print(\"Epoch: {}, Loss: {:.3f}\".format(i+1,loss.item()))#誤差を表示\n",
    "    loss_list.append(loss.item())#誤差をリスト化して記録\n",
    "    optimizer.zero_grad()#勾配の初期化\n",
    "    loss.backward()#勾配の計算\n",
    "    optimizer.step()#パラメータの更新\n",
    "    "
   ]
  },
  {
   "cell_type": "code",
   "execution_count": 61,
   "metadata": {},
   "outputs": [
    {
     "data": {
      "image/png": "[encoded data removed]",
      "text/plain": [
       "<Figure size 432x288 with 1 Axes>"
      ]
     },
     "metadata": {
      "needs_background": "light"
     },
     "output_type": "display_data"
    }
   ],
   "source": [
    "plt.figure()\n",
    "plt.title(\"Training Curve\") #タイトル\n",
    "plt.xlabel(\"Epoch\")#x軸のラベル\n",
    "plt.ylabel(\"Loss\")#y軸のラベル\n",
    "plt.plot(range(1, epoch+1), loss_list)#学習回数毎にプロット\n",
    "plt.show()#プロットの表示"
   ]
  },
  {
   "cell_type": "code",
   "execution_count": null,
   "metadata": {},
   "outputs": [],
   "source": []
  }
 ],
 "metadata": {
  "kernelspec": {
   "display_name": "Python 3",
   "language": "python",
   "name": "python3"
  },
  "language_info": {
   "codemirror_mode": {
    "name": "ipython",
    "version": 3
   },
   "file_extension": ".py",
   "mimetype": "text/x-python",
   "name": "python",
   "nbconvert_exporter": "python",
   "pygments_lexer": "ipython3",
   "version": "3.8.3"
  }
 },
 "nbformat": 4,
 "nbformat_minor": 4
}
