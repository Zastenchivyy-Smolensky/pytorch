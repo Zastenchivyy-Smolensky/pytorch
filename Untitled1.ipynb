{
 "cells": [
  {
   "cell_type": "code",
   "execution_count": 1,
   "metadata": {},
   "outputs": [],
   "source": [
    "import pandas as pd\n",
    "import matplotlib.pyplot as plt\n",
    "from sklearn.datasets import load_iris\n",
    "from sklearn.model_selection import train_test_split\n",
    "import torch \n",
    "from torch.utils.data import TensorDataset, DataLoader\n",
    "from torch import nn\n",
    "import torch.nn.functional as F\n",
    "from torch import optim"
   ]
  },
  {
   "cell_type": "code",
   "execution_count": 2,
   "metadata": {},
   "outputs": [],
   "source": [
    "iris = load_iris()\n",
    "data = iris.data\n",
    "label = iris.target"
   ]
  },
  {
   "cell_type": "code",
   "execution_count": 3,
   "metadata": {},
   "outputs": [
    {
     "name": "stdout",
     "output_type": "stream",
     "text": [
      "train_data size: 120\n",
      "test_data size: 30\n",
      "train_label size: 120\n",
      "test_label size: 30\n"
     ]
    }
   ],
   "source": [
    "train_data, test_data, train_label, test_label = train_test_split(\n",
    "            data, label, test_size=0.2)\n",
    "print(\"train_data size: {}\".format(len(train_data)))\n",
    "print(\"test_data size: {}\".format(len(test_data)))\n",
    "print(\"train_label size: {}\".format(len(train_label)))\n",
    "print(\"test_label size: {}\".format(len(test_label)))"
   ]
  },
  {
   "cell_type": "code",
   "execution_count": 4,
   "metadata": {},
   "outputs": [],
   "source": [
    "train_x = torch.Tensor(train_data)\n",
    "test_x = torch.Tensor(test_data)\n",
    "train_y = torch.LongTensor(train_label)\n",
    "test_y = torch.LongTensor(test_label)"
   ]
  },
  {
   "cell_type": "code",
   "execution_count": 5,
   "metadata": {},
   "outputs": [],
   "source": [
    "train_dataset = TensorDataset(train_x, train_y)\n",
    "test_dataset = TensorDataset(test_x, test_y)"
   ]
  },
  {
   "cell_type": "code",
   "execution_count": 6,
   "metadata": {},
   "outputs": [],
   "source": [
    "train_batch = DataLoader(\n",
    "    dataset=train_dataset,\n",
    "    batch_size=5,\n",
    "    shuffle=True,\n",
    "    num_workers=2)\n",
    "test_batch = DataLoader(\n",
    "    dataset=test_dataset,\n",
    "    batch_size=5,\n",
    "    shuffle=False,\n",
    "    num_workers=2)"
   ]
  },
  {
   "cell_type": "code",
   "execution_count": 7,
   "metadata": {},
   "outputs": [
    {
     "name": "stdout",
     "output_type": "stream",
     "text": [
      "batch data size: torch.Size([5, 4])\n",
      "batch label size: torch.Size([5])\n"
     ]
    }
   ],
   "source": [
    "for data, label in train_batch:\n",
    "    print(\"batch data size: {}\".format(data.size()))\n",
    "    print(\"batch label size: {}\".format(label.size()))\n",
    "    break"
   ]
  },
  {
   "cell_type": "code",
   "execution_count": 8,
   "metadata": {},
   "outputs": [
    {
     "name": "stdout",
     "output_type": "stream",
     "text": [
      "batch data size: torch.Size([5, 4])\n",
      "batch label size: torch.Size([5])\n",
      "batch data size: torch.Size([5, 4])\n",
      "batch label size: torch.Size([5])\n",
      "batch data size: torch.Size([5, 4])\n",
      "batch label size: torch.Size([5])\n",
      "batch data size: torch.Size([5, 4])\n",
      "batch label size: torch.Size([5])\n",
      "batch data size: torch.Size([5, 4])\n",
      "batch label size: torch.Size([5])\n",
      "batch data size: torch.Size([5, 4])\n",
      "batch label size: torch.Size([5])\n",
      "batch data size: torch.Size([5, 4])\n",
      "batch label size: torch.Size([5])\n",
      "batch data size: torch.Size([5, 4])\n",
      "batch label size: torch.Size([5])\n",
      "batch data size: torch.Size([5, 4])\n",
      "batch label size: torch.Size([5])\n",
      "batch data size: torch.Size([5, 4])\n",
      "batch label size: torch.Size([5])\n",
      "batch data size: torch.Size([5, 4])\n",
      "batch label size: torch.Size([5])\n",
      "batch data size: torch.Size([5, 4])\n",
      "batch label size: torch.Size([5])\n",
      "batch data size: torch.Size([5, 4])\n",
      "batch label size: torch.Size([5])\n",
      "batch data size: torch.Size([5, 4])\n",
      "batch label size: torch.Size([5])\n",
      "batch data size: torch.Size([5, 4])\n",
      "batch label size: torch.Size([5])\n",
      "batch data size: torch.Size([5, 4])\n",
      "batch label size: torch.Size([5])\n",
      "batch data size: torch.Size([5, 4])\n",
      "batch label size: torch.Size([5])\n",
      "batch data size: torch.Size([5, 4])\n",
      "batch label size: torch.Size([5])\n",
      "batch data size: torch.Size([5, 4])\n",
      "batch label size: torch.Size([5])\n",
      "batch data size: torch.Size([5, 4])\n",
      "batch label size: torch.Size([5])\n",
      "batch data size: torch.Size([5, 4])\n",
      "batch label size: torch.Size([5])\n",
      "batch data size: torch.Size([5, 4])\n",
      "batch label size: torch.Size([5])\n",
      "batch data size: torch.Size([5, 4])\n",
      "batch label size: torch.Size([5])\n",
      "batch data size: torch.Size([5, 4])\n",
      "batch label size: torch.Size([5])\n"
     ]
    }
   ],
   "source": [
    "for data, label in train_batch:\n",
    "    print(\"batch data size: {}\".format(data.size()))\n",
    "    print(\"batch label size: {}\".format(label.size()))"
   ]
  },
  {
   "cell_type": "code",
   "execution_count": null,
   "metadata": {},
   "outputs": [],
   "source": []
  }
 ],
 "metadata": {
  "kernelspec": {
   "display_name": "Python 3",
   "language": "python",
   "name": "python3"
  },
  "language_info": {
   "codemirror_mode": {
    "name": "ipython",
    "version": 3
   },
   "file_extension": ".py",
   "mimetype": "text/x-python",
   "name": "python",
   "nbconvert_exporter": "python",
   "pygments_lexer": "ipython3",
   "version": "3.8.3"
  }
 },
 "nbformat": 4,
 "nbformat_minor": 4
}
